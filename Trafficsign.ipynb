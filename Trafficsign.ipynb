{
  "nbformat": 4,
  "nbformat_minor": 0,
  "metadata": {
    "colab": {
      "name": "Untitled4.ipynb",
      "provenance": [],
      "authorship_tag": "ABX9TyOvYpklsP+PZ85AyUO75Ytw",
      "include_colab_link": true
    },
    "kernelspec": {
      "name": "python3",
      "display_name": "Python 3"
    }
  },
  "cells": [
    {
      "cell_type": "markdown",
      "metadata": {
        "id": "view-in-github",
        "colab_type": "text"
      },
      "source": [
        "<a href=\"https://colab.research.google.com/github/Anuja-F/ML-Practice-Notebook/blob/master/Trafficsign.ipynb\" target=\"_parent\"><img src=\"https://colab.research.google.com/assets/colab-badge.svg\" alt=\"Open In Colab\"/></a>"
      ]
    },
    {
      "cell_type": "code",
      "metadata": {
        "id": "EC0MYezhwOGf",
        "colab_type": "code",
        "colab": {}
      },
      "source": [
        "import numpy as np\n",
        "from skimage import io,color,exposure,transform\n",
        "import os,h5py,glob\n",
        "from keras.preprocessing.image import ImageDataGenerator\n",
        "from keras.models import Sequential,model_from_json\n",
        "from keras.layers.core import Dense,Dropout,Activation,Flatten\n",
        "from keras.layers.convolutional import Conv2D\n",
        "from keras.layers.pooling import MaxPooling2D\n",
        "from keras.optimizers import SGD\n",
        "from keras.utils import np_utils\n",
        "from keras.callbacks import LearningRateScheduler,ModelCheckpoint\n",
        "from keras import backend as K\n",
        "K.set_image_data_format(\"channels_first\")\n",
        "from matplotlib import pyplot as plt\n",
        "%matplotlib inline\n",
        "from sklearn.model_selection import train_test_split\n",
        "\n",
        "NUM_CLASSES=43\n",
        "IMG_SIZE=48"
      ],
      "execution_count": 0,
      "outputs": []
    },
    {
      "cell_type": "markdown",
      "metadata": {
        "id": "QvuADu4K6Mek",
        "colab_type": "text"
      },
      "source": [
        "Preprocess the images"
      ]
    },
    {
      "cell_type": "code",
      "metadata": {
        "id": "co2IzsVi5OCV",
        "colab_type": "code",
        "colab": {}
      },
      "source": [
        "def preprocess_img(image):\n",
        "  hsv=color.rgb2hsv(image)  #improve the global contrast of images\n",
        "  hsv[:,:,2]=exposure.equalize_hist(hsv[:,:,2])\n",
        "  image=color.hsv2rgb"
      ],
      "execution_count": 0,
      "outputs": []
    }
  ]
}