{
  "nbformat": 4,
  "nbformat_minor": 0,
  "metadata": {
    "colab": {
      "name": "Untitled0.ipynb",
      "provenance": [],
      "authorship_tag": "ABX9TyPqlhD2BzlFQ4pr69kjKJut",
      "include_colab_link": true
    },
    "kernelspec": {
      "name": "python3",
      "display_name": "Python 3"
    }
  },
  "cells": [
    {
      "cell_type": "markdown",
      "metadata": {
        "id": "view-in-github",
        "colab_type": "text"
      },
      "source": [
        "<a href=\"https://colab.research.google.com/github/Anuja-F/ML-Practice-Notebook/blob/master/NNcreationkeras.ipynb\" target=\"_parent\"><img src=\"https://colab.research.google.com/assets/colab-badge.svg\" alt=\"Open In Colab\"/></a>"
      ]
    },
    {
      "cell_type": "code",
      "metadata": {
        "id": "9gz3tOHweQVB",
        "colab_type": "code",
        "colab": {}
      },
      "source": [
        "# first neural network with keras make predictions\n",
        "import numpy\n",
        "from keras.models import Sequential\n",
        "from keras.layers import Dense\n",
        "import pandas as pd\n",
        "# load the dataset\n",
        "dataset = pd.read_csv('pima-indians-data.csv')\n",
        "print(dataset)"
      ],
      "execution_count": 0,
      "outputs": []
    }
  ]
}